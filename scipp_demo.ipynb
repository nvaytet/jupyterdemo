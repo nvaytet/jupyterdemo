{
 "cells": [
  {
   "cell_type": "markdown",
   "id": "f43fa32c-f8c4-4c88-a4be-c5d0db9164cb",
   "metadata": {},
   "source": [
    "# Scipp demo"
   ]
  },
  {
   "cell_type": "code",
   "execution_count": null,
   "id": "4a31c641-7691-4b05-88d3-cfc434a1709c",
   "metadata": {},
   "outputs": [],
   "source": [
    "import numpy as np"
   ]
  },
  {
   "cell_type": "markdown",
   "id": "74f178e5-d844-403a-ac6b-0e289c0abae1",
   "metadata": {},
   "source": [
    "We create a two-dimensional array `a` containing 4 rows, each containing 3 elements."
   ]
  },
  {
   "cell_type": "code",
   "execution_count": null,
   "id": "10c0fc2f-56ea-4490-b500-6c059fbb12e1",
   "metadata": {},
   "outputs": [],
   "source": [
    "a = np.arange(12.).reshape(4, 3)\n",
    "a"
   ]
  },
  {
   "cell_type": "markdown",
   "id": "abc8ca2f-4dbd-47c2-96f9-e27c381d88f5",
   "metadata": {},
   "source": [
    "A very common operation is selecting rows or columns of these arrays,\n",
    "and this is easily achieved by 'slicing' the array using indices inside square brackets.\n",
    "\n",
    "A number represents a single element along a dimension,\n",
    "while a colon `:` represents the entire range along that dimension.\n",
    "\n",
    "A recurring annoyance among users is not being able to remember which dimension represents columns,\n",
    "and which one represents rows.\n",
    "\n",
    "E.g. to select the first row, do we have to write `a[:, 0]` or `a[0, :]` (note that row/column indices begin at `0`)?\n",
    "\n",
    "In the case of our present array, it is often useful to inspect the `shape` of the array:"
   ]
  },
  {
   "cell_type": "code",
   "execution_count": null,
   "id": "fb69572e-407c-4b0a-b1e5-d73973afb085",
   "metadata": {},
   "outputs": [],
   "source": [
    "a.shape"
   ]
  },
  {
   "cell_type": "markdown",
   "id": "b89f2f10-570e-44ad-b201-1608ebe796d8",
   "metadata": {},
   "source": [
    "Since we have 4 rows, and each row contains 3 elements,\n",
    "we know from the `shape` that the first dimension contains 4 entries,\n",
    "and therefore corresponds to the row dimension.\n",
    "\n",
    "Hence selecting the first row of elements is done via"
   ]
  },
  {
   "cell_type": "code",
   "execution_count": null,
   "id": "90de2869-d63c-4f71-8f80-a70b5a6f2308",
   "metadata": {},
   "outputs": [],
   "source": [
    "a[0, :]"
   ]
  },
  {
   "cell_type": "markdown",
   "id": "7d808c5b-9fc5-4979-ba4d-bbd44fcf6645",
   "metadata": {},
   "source": [
    "We can also verify that swapping the order of the `0` and the `:` gives us the first column instead:"
   ]
  },
  {
   "cell_type": "code",
   "execution_count": null,
   "id": "82451d0e-b181-4ee1-9715-33c7fda38248",
   "metadata": {},
   "outputs": [],
   "source": [
    "a[:, 0]"
   ]
  },
  {
   "cell_type": "markdown",
   "id": "7f78e97f-8079-43a5-aebf-3f36369402a1",
   "metadata": {},
   "source": [
    "### When both dimensions have the same length\n",
    "\n",
    "Now consider the case where both dimensions have the same length (6 in this case):"
   ]
  },
  {
   "cell_type": "code",
   "execution_count": null,
   "id": "2f91dea9-5c29-4f5c-8dac-e0c2ca4bcc0b",
   "metadata": {},
   "outputs": [],
   "source": [
    "b = np.arange(36.).reshape(6, 6)\n",
    "b"
   ]
  },
  {
   "cell_type": "markdown",
   "id": "baebbbf3-ed6a-46ed-8d74-79003e4f258a",
   "metadata": {},
   "source": [
    "Looking at the shape of the array no longer provides us with the clue as to which dimension should be sliced to select a row.\n",
    "\n",
    "It might be ovbious from simply inspecting the values inside the array for this simple example,\n",
    "but this is not always possible when the values correspond to real data,\n",
    "and each dimension can reach lengths of several thousands.\n",
    "\n",
    "So in practise, users can waste a lot of time through trial and error,\n",
    "trying to find the correct dimension to slice.\n",
    "\n",
    "## Introducing labeled dimensions\n",
    "\n",
    "In Scipp, we introduced the concept of labeling each array dimension with a unique identifier,\n",
    "which both helps identify the rows and the columns, and gives physical meaning to each dimension.\n",
    "\n",
    "Scipp arrays are basically wrappers around the Numpy arrays.\n",
    "To create a 2D array with dimensions `x` and `y`, we write"
   ]
  },
  {
   "cell_type": "code",
   "execution_count": null,
   "id": "05c13411-1d94-47cf-9cd9-49ad663ca016",
   "metadata": {},
   "outputs": [],
   "source": [
    "import scipp as sc\n",
    "c = sc.array(dims=['y', 'x'], values=b)\n",
    "c"
   ]
  },
  {
   "cell_type": "markdown",
   "id": "5a4b5e64-b7b4-40af-8c0d-2c1096c2f03a",
   "metadata": {},
   "source": [
    "Note the re-use of the `b` Numpy array inside the Scipp array constructor.\n",
    "\n",
    "Scipp provides small graphical representations of the arrays through the `show` function:"
   ]
  },
  {
   "cell_type": "code",
   "execution_count": null,
   "id": "ce348cd4-58ac-4000-9c56-decdc8c51195",
   "metadata": {},
   "outputs": [],
   "source": [
    "sc.show(c)"
   ]
  },
  {
   "cell_type": "markdown",
   "id": "bbb7d93a-2581-4050-88bc-b165dda81e54",
   "metadata": {},
   "source": [
    "The `x` and `y` dimension labels are visible on each side of the square.\n",
    "\n",
    "With Scipp, slicing is performed by first giving the name/label of the dimension one wishes to slice,\n",
    "and then the index to be selected in that dimension.\n",
    "\n",
    "Hence, if I wish to select the first row, I simply have to slice the first element along the `y` dimension"
   ]
  },
  {
   "cell_type": "code",
   "execution_count": null,
   "id": "39337c2f-c91d-4155-bb57-fb76276445c6",
   "metadata": {},
   "outputs": [],
   "source": [
    "c_slice = c['y', 0]\n",
    "c_slice"
   ]
  },
  {
   "cell_type": "markdown",
   "id": "7bec4693-a2c1-425d-94bf-52aa9233279f",
   "metadata": {},
   "source": [
    "The output above tells me that it is an array with one dimension (`x`), that contains 6 elements,\n",
    "and the values are `0` to `5`\n",
    "(you can click on the &#9923; symbol on the right hand side to expand the view onto the values)."
   ]
  },
  {
   "cell_type": "code",
   "execution_count": null,
   "id": "678b7603-7a15-44bc-957e-260f4a205961",
   "metadata": {},
   "outputs": [],
   "source": [
    "sc.show(c_slice)"
   ]
  },
  {
   "cell_type": "markdown",
   "id": "2d8c8fbd-6ccf-4012-b9d4-85f5df7e6a03",
   "metadata": {},
   "source": [
    "This slicing syntax has the added benefit that the intention is **not only clear for the person writing the code,\n",
    "but also for another person reading it**.\n",
    "It is immediately understandable what the slicing is trying to achieve,\n",
    "without having to scroll up (possibly a long way) at the start of the notebook,\n",
    "to look at when the array was first created.\n",
    "\n",
    "## Physical units\n",
    "\n",
    "Scipp arrays can also have physical units, and these are automatically handled in operations."
   ]
  },
  {
   "cell_type": "code",
   "execution_count": null,
   "id": "cd8637a2-23b5-41fa-8eec-537952984dd4",
   "metadata": {},
   "outputs": [],
   "source": [
    "c.unit = 's'\n",
    "d = sc.array(dims=['y', 'x'], values=np.random.random((6, 6)), unit='m')\n",
    "d / c"
   ]
  },
  {
   "cell_type": "markdown",
   "id": "1f7c9a17-b9eb-4117-80e7-acb2dbd71103",
   "metadata": {},
   "source": [
    "Dividing `d` by `c` gives us an output in units of `m/s`.\n",
    "\n",
    "Units also prevent users from performing wrong operations,\n",
    "e.g. trying to add meters and seconds together,\n",
    "something that can be difficult to detect with Numpy."
   ]
  },
  {
   "cell_type": "code",
   "execution_count": null,
   "id": "1228de4d-0bbc-4d60-8f10-93834e02af82",
   "metadata": {},
   "outputs": [],
   "source": [
    "c + d"
   ]
  },
  {
   "cell_type": "markdown",
   "id": "29356a6b-0194-4160-b591-a2940b37c628",
   "metadata": {},
   "source": [
    "## Adding coordinates\n",
    "\n",
    "It is also possible to add coordinates to an array,\n",
    "which label each dimension and give a physical scale to each dimension\n",
    "(just as the unit of the array gives a scale to the data contained in the array).\n",
    "\n",
    "Below, we attach `x` and `y` coordinates to our `c` array.\n",
    "The `x` coordinate ranges from `1` to `6`, while the `y` coordinate ranges from `10` to `100`\n",
    "(note that coordinates can also have units)."
   ]
  },
  {
   "cell_type": "code",
   "execution_count": null,
   "id": "2ea3e27f-7a04-4fdb-bb60-eed5647a5bf7",
   "metadata": {},
   "outputs": [],
   "source": [
    "e = sc.DataArray(data=c,\n",
    "                 coords={'x': sc.linspace(dim='x', start=1., stop=6, num=6, unit='m'),\n",
    "                         'y': sc.linspace(dim='y', start=10., stop=100, num=6, unit='m')})\n",
    "sc.show(e)"
   ]
  },
  {
   "cell_type": "markdown",
   "id": "227b18d6-13c4-4268-8dd0-7e1de3ce5e44",
   "metadata": {},
   "source": [
    "Coordinates are used for many things,\n",
    "including preventing operations between two arrays with non-matching coordinates,\n",
    "which are thus covering different regions of the data space.\n",
    "\n",
    "Another benefit of coordinates is that the data array now contains enough information to be visualized.\n",
    "I.e. the data can plot itself.\n",
    "It knows it has two dimensions, and it knows what scaling to apply to each dimension."
   ]
  },
  {
   "cell_type": "code",
   "execution_count": null,
   "id": "3cb24f2b-c7a8-408f-9ff8-1749d894c406",
   "metadata": {},
   "outputs": [],
   "source": [
    "sc.plot(e)"
   ]
  },
  {
   "cell_type": "code",
   "execution_count": null,
   "id": "b50bb566-9daf-40cb-ac00-ce2abd35e567",
   "metadata": {},
   "outputs": [],
   "source": []
  }
 ],
 "metadata": {
  "kernelspec": {
   "display_name": "Python 3 (ipykernel)",
   "language": "python",
   "name": "python3"
  },
  "language_info": {
   "codemirror_mode": {
    "name": "ipython",
    "version": 3
   },
   "file_extension": ".py",
   "mimetype": "text/x-python",
   "name": "python",
   "nbconvert_exporter": "python",
   "pygments_lexer": "ipython3",
   "version": "3.9.5"
  }
 },
 "nbformat": 4,
 "nbformat_minor": 5
}
