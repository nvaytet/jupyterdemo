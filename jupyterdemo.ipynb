{
 "cells": [
  {
   "cell_type": "markdown",
   "metadata": {},
   "source": [
    "# What is the Jupyter project?\n",
    "\n",
    "![jupyterlogo](https://upload.wikimedia.org/wikipedia/commons/thumb/3/38/Jupyter_logo.svg/103px-Jupyter_logo.svg.png)\n",
    "\n",
    "## History\n",
    "\n",
    "Project Jupyter is a non-profit, open-source project,\n",
    "born out of the `IPython` Project in 2014 as it evolved to support interactive data science and scientific\n",
    "computing across many programming languages.\n",
    "\n",
    "*Jupyter* is an acronym for **Ju**lia, **Pyt**hon, and **R**.\n",
    "These three languages were the first target languages of the *Jupyter* application,\n",
    "but nowadays, the notebook technology also support many other languages\n",
    "(C, C#, C++, Scala, Ruby, Perl, Javascript, Fortran,...).\n",
    "\n",
    "*Jupyter* allows users to create and share documents that contain sections, live code, equations,\n",
    "visualizations and narrative text."
   ]
  },
  {
   "cell_type": "markdown",
   "metadata": {},
   "source": [
    "## Descriptive text using Markdown\n",
    "\n",
    "Rich text formatting is supported in Jupyter via \n",
    "[Markdown](https://guides.github.com/features/mastering-markdown/),\n",
    "a popular (and simple) syntax way to style text on the web.\n",
    "\n",
    "Markdown supports section headings, **bold** and *italic* text, lists, images, tables, links, and much more.\n",
    "The entire heading of this notebook is written in Markdown.\n",
    "\n",
    "Markdown also supports LaTeX syntax for equations, e.g.\n",
    "$$\n",
    "\\mathbf{g} = - \\frac{GM}{|r^{2}|}\\mathbf{\\hat{r}} - (|\\mathbf{w}|^{2} |\\mathbf{r}| \\sin \\phi) \\mathbf{\\hat{a}}\n",
    "$$\n",
    "which makes it extremely well suited for the scientific domain.\n",
    "\n",
    "## Code cells"
   ]
  },
  {
   "cell_type": "code",
   "execution_count": null,
   "metadata": {},
   "outputs": [],
   "source": [
    "import numpy as np"
   ]
  },
  {
   "cell_type": "code",
   "execution_count": null,
   "metadata": {},
   "outputs": [],
   "source": [
    "# Generate an array of 100 random numbers\n",
    "a = np.random.random(100)\n",
    "a"
   ]
  },
  {
   "cell_type": "code",
   "execution_count": null,
   "metadata": {},
   "outputs": [],
   "source": [
    "# Find the minimum and maximum values\n",
    "print(\"Min:\", a.min(), \"Max:\", a.max())"
   ]
  },
  {
   "cell_type": "markdown",
   "metadata": {},
   "source": [
    "## Data visualization"
   ]
  },
  {
   "cell_type": "code",
   "execution_count": null,
   "metadata": {},
   "outputs": [],
   "source": [
    "import matplotlib.pyplot as plt\n",
    "%matplotlib widget"
   ]
  },
  {
   "cell_type": "code",
   "execution_count": null,
   "metadata": {},
   "outputs": [],
   "source": [
    "plt.plot(a)"
   ]
  },
  {
   "cell_type": "code",
   "execution_count": null,
   "metadata": {},
   "outputs": [],
   "source": [
    "import ipyvolume as ipv\n",
    "x, y, z = np.random.random((3, 10000))\n",
    "ipv.quickscatter(x, y, z, size=1, marker=\"sphere\")"
   ]
  },
  {
   "cell_type": "code",
   "execution_count": null,
   "metadata": {},
   "outputs": [],
   "source": [
    "fig = ipv.figure()\n",
    "vol_head = ipv.examples.head(max_shape=128);\n",
    "vol_head.ray_steps = 800\n",
    "ipv.view(90, 0)"
   ]
  }
 ],
 "metadata": {
  "kernelspec": {
   "display_name": "Python 3",
   "language": "python",
   "name": "python3"
  },
  "language_info": {
   "codemirror_mode": {
    "name": "ipython",
    "version": 3
   },
   "file_extension": ".py",
   "mimetype": "text/x-python",
   "name": "python",
   "nbconvert_exporter": "python",
   "pygments_lexer": "ipython3",
   "version": "3.7.7"
  }
 },
 "nbformat": 4,
 "nbformat_minor": 4
}
